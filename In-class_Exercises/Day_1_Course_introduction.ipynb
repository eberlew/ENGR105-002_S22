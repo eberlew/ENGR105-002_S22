{
  "nbformat": 4,
  "nbformat_minor": 0,
  "metadata": {
    "colab": {
      "name": "Day 1 - Course introduction",
      "provenance": [],
      "collapsed_sections": [],
      "authorship_tag": "ABX9TyNZ16G4pco8I5d31L1ePvQv",
      "include_colab_link": true
    },
    "kernelspec": {
      "name": "python3",
      "display_name": "Python 3"
    },
    "language_info": {
      "name": "python"
    }
  },
  "cells": [
    {
      "cell_type": "markdown",
      "metadata": {
        "id": "view-in-github",
        "colab_type": "text"
      },
      "source": [
        "<a href=\"https://colab.research.google.com/github/eberlew/ENGR105-002_S22/blob/main/In-class_Exercises/Day_1_Course_introduction.ipynb\" target=\"_parent\"><img src=\"https://colab.research.google.com/assets/colab-badge.svg\" alt=\"Open In Colab\"/></a>"
      ]
    },
    {
      "cell_type": "markdown",
      "source": [
        "# **ENGINEERING 105-002**: Day 1 (Wednesday 01/12/2022)\n",
        "\n",
        "\n",
        "---\n",
        "Goals:\\\n",
        "(1) Familiarize ourselves with the Colab environment\\\n",
        "(2) Run some basic Python code\\\n",
        "(3) Upload the completed Colab notebook to GitHub\n"
      ],
      "metadata": {
        "id": "tsArrkCZgklR"
      }
    },
    {
      "cell_type": "markdown",
      "source": [
        "## The first coding task: saying hello\n",
        "\n",
        "One of the most common first programming assignments (used as a sanity check or to make sure a program is installed correctly) is to display the text \"Hello, world!\". History of this exercise can be found [here](https://https://en.wikipedia.org/wiki/%22Hello,_World!%22_program). \n",
        "\n",
        "In Python, displaying a text output can be accomplished using the `print` command. The text you want to print should be placed in quotation marks (\" \") to indicate that it should be treated as a string rather than a variable (more about this later).\n",
        "\n",
        "Below, write code to display the text \"Hello, world!\". When you're done, run the code by clicking the play button to the left of your code, or press Ctrl/Cmd + Enter. "
      ],
      "metadata": {
        "id": "nR_-y6o_hJmp"
      }
    },
    {
      "cell_type": "code",
      "execution_count": null,
      "metadata": {
        "id": "aJbiZI3XzZFp"
      },
      "outputs": [],
      "source": [
        "# Write code here!"
      ]
    },
    {
      "cell_type": "markdown",
      "source": [
        "## Writing a python program\n",
        "\n",
        "Python programs are incredibly versatile! A few things programs can do:\n",
        "* Read in input from a file or the user (through the keyboard)\n",
        "* Perform calculations on numbers, text (\"strings\"), or true/false values (\"booleans\")\n",
        "* Make decisions based on the state of the program\n",
        "* Iterate operations using loops\n",
        "* Delegate tasks by running other programs\n",
        "* Display or save outputs\n",
        "\n",
        "The function below, called **multiply**, takes inputs **a** and **b** and returns their product. Run the cell below to initialize the program, then adjust inputs in the next cell to get the product of two numbers.\n"
      ],
      "metadata": {
        "id": "1PbvE4PPgg0c"
      }
    },
    {
      "cell_type": "code",
      "source": [
        "# This function takes inputs a and b and returns their product.\n",
        "def multiply(a,b):\n",
        "  product = a * b\n",
        "  return product"
      ],
      "metadata": {
        "id": "u8N2DZ7kzdW6"
      },
      "execution_count": null,
      "outputs": []
    },
    {
      "cell_type": "code",
      "source": [
        "# Change the inputs to return the product of two numbers.\n",
        "multiply(4,12)"
      ],
      "metadata": {
        "colab": {
          "base_uri": "https://localhost:8080/"
        },
        "id": "eimNWnlrtz5_",
        "outputId": "7a6d1dcb-fe68-4b17-fa3a-f3b1a1e44668"
      },
      "execution_count": null,
      "outputs": [
        {
          "output_type": "execute_result",
          "data": {
            "text/plain": [
              "48"
            ]
          },
          "metadata": {},
          "execution_count": 5
        }
      ]
    },
    {
      "cell_type": "markdown",
      "source": [
        "Next, write your own program to <b>divide</b> input c by input d and return the quotient. "
      ],
      "metadata": {
        "id": "PhGKd67luANc"
      }
    },
    {
      "cell_type": "code",
      "source": [
        "# Write your function here."
      ],
      "metadata": {
        "id": "zS_xkFe2EPkL"
      },
      "execution_count": null,
      "outputs": []
    },
    {
      "cell_type": "code",
      "source": [
        "# Use your function to divide 36 by 4."
      ],
      "metadata": {
        "id": "G1IlBYYYEPpr"
      },
      "execution_count": null,
      "outputs": []
    }
  ]
}